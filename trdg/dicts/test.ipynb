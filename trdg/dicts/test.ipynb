{
 "cells": [
  {
   "cell_type": "code",
   "execution_count": 17,
   "source": [
    "import os\n",
    "import random\n",
    "import persian"
   ],
   "outputs": [],
   "metadata": {}
  },
  {
   "cell_type": "code",
   "execution_count": 33,
   "source": [
    "def write_to_file(seq, path):\n",
    "    with open(path, 'w+') as f:\n",
    "        for item in seq:\n",
    "            f.write(item)\n",
    "            f.write('\\n')\n",
    "    return True\n",
    "\n",
    "\n",
    "def read_file(path):\n",
    "    with open(path) as f:\n",
    "        words = f.readlines()\n",
    "        words = [word.replace('\\n', '') for word in words]\n",
    "    return words\n",
    "\n",
    "\n",
    "def generate_id(mode='new'):\n",
    "    id_ = str(random.randint(10e8, 10e9))\n",
    "    id_ = persian.convert_en_numbers(id_)\n",
    "    if mode == 'old':\n",
    "        id_ = id_[:3] + '-' + id_[3:-1] + '-' + id_[-1]\n",
    "    return id_\n",
    "\n",
    "\n",
    "def generate_date():\n",
    "    year = str(random.randint(1000, 9999))\n",
    "    month = str(random.randint(1, 12)).zfill(2)\n",
    "    day = str(random.randint(1, 31)).zfill(2)\n",
    "    date = f'{year}/{month}/{day}'\n",
    "    return persian.convert_en_numbers(date)\n",
    "\n",
    "\n",
    "# ids_new = [generate_id(mode='new') for i in range(100000)]\n",
    "# ids_old = [generate_id(mode='old') for i in range(100000)]\n",
    "# dates = [generate_date() for i in range(100000)]\n",
    "\n",
    "# total_dict = ids_new + ids_old + dates\n",
    "\n",
    "# with open('IR_national_id.txt', 'w+') as f:\n",
    "#     for word in total_dict:\n",
    "#         f.write(word)\n",
    "#         f.write('\\n')\n"
   ],
   "outputs": [],
   "metadata": {}
  },
  {
   "cell_type": "markdown",
   "source": [
    "## Merge Alphabet and Digits"
   ],
   "metadata": {}
  },
  {
   "cell_type": "code",
   "execution_count": 35,
   "source": [
    "# Merge alphabet and digits\n",
    "\n",
    "with open('fa_chars.txt') as f:\n",
    "    words = f.readlines()\n",
    "    words = [word.replace('\\n', '') for word in words]\n",
    "\n",
    "ids_new = [generate_id(mode='new') for i in range(5000)]\n",
    "ids_old = [generate_id(mode='old') for i in range(5000)]\n",
    "dates = [generate_date() for i in range(10000)]\n",
    "\n",
    "total_digits = ids_new + ids_old + dates\n",
    "\n",
    "special_chars = [')(', '،', '؛', ':', '=', '/', '-', '%', '!', '؟', '.']\n",
    "\n",
    "special_words = []\n",
    "for word in words[::10]:\n",
    "    special_char = random.choice(special_chars)\n",
    "    if len(special_char) == 2:\n",
    "        word = f'{special_char[1]}{word}{special_char[0]}'\n",
    "    else:\n",
    "        index = random.choice(range(0, len(word)))\n",
    "        word = word[:index] + special_char + word[index:]\n",
    "    special_words.append(word)\n",
    "\n",
    "all_ = special_words + words + total_digits\n",
    "random.shuffle(all_)\n",
    "\n",
    "write_to_file(all_, 'fa.txt')"
   ],
   "outputs": [
    {
     "output_type": "execute_result",
     "data": {
      "text/plain": [
       "True"
      ]
     },
     "metadata": {},
     "execution_count": 35
    }
   ],
   "metadata": {}
  }
 ],
 "metadata": {
  "orig_nbformat": 4,
  "language_info": {
   "name": "python",
   "version": "3.8.8",
   "mimetype": "text/x-python",
   "codemirror_mode": {
    "name": "ipython",
    "version": 3
   },
   "pygments_lexer": "ipython3",
   "nbconvert_exporter": "python",
   "file_extension": ".py"
  },
  "kernelspec": {
   "name": "python3",
   "display_name": "Python 3.8.8 64-bit ('tf2_gpu': conda)"
  },
  "interpreter": {
   "hash": "ee83c9f5cefc4f59c2f6a83d5d464ac574a9fd81dc03cd642c750342624db227"
  }
 },
 "nbformat": 4,
 "nbformat_minor": 2
}